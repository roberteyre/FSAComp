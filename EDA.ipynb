{
 "cells": [
  {
   "cell_type": "markdown",
   "metadata": {
    "execution": {
     "iopub.execute_input": "2020-07-15T10:06:02.396011Z",
     "iopub.status.busy": "2020-07-15T10:06:02.395691Z",
     "iopub.status.idle": "2020-07-15T10:06:02.401407Z",
     "shell.execute_reply": "2020-07-15T10:06:02.400445Z",
     "shell.execute_reply.started": "2020-07-15T10:06:02.395985Z"
    }
   },
   "source": [
    "# Food hazards from around the world data competition"
   ]
  },
  {
   "cell_type": "code",
   "execution_count": 179,
   "metadata": {},
   "outputs": [],
   "source": [
    "import numpy as np\n",
    "import pandas as pd\n",
    "\n",
    "import matplotlib.pyplot as plt"
   ]
  },
  {
   "cell_type": "code",
   "execution_count": 180,
   "metadata": {},
   "outputs": [],
   "source": [
    "data = pd.read_excel('FSA_data_competition_2020.xlsx', index_col=0, parse_dates = ['Date of Publishing'], keep_default_na=True)\n",
    "\n",
    "data.columns = data.columns.str.replace('-', '_').str.replace(' ', '_').str.replace('/', '_').str.replace(',', '_')\n",
    "\n",
    "data = data[data.Country_of_Origin != 'INFOSAN']\n",
    "data = data[~pd.isnull(data.Country_of_Origin)]\n",
    "data = data[~pd.isnull(data.Notified_by)]"
   ]
  },
  {
   "cell_type": "code",
   "execution_count": 181,
   "metadata": {},
   "outputs": [],
   "source": [
    "data = data[~pd.isnull(data.Notified_by)]\n",
    "data = data[data.Notified_by != 'Commission Services']"
   ]
  },
  {
   "cell_type": "code",
   "execution_count": 182,
   "metadata": {},
   "outputs": [],
   "source": [
    "import pycountry_convert as pc"
   ]
  },
  {
   "cell_type": "code",
   "execution_count": 190,
   "metadata": {},
   "outputs": [],
   "source": [
    "def f(c):\n",
    "    if str(c) != 'nan' and str(c) != 'INFOSAN':\n",
    "        if c == 'Palestinian Territories':\n",
    "            c = 'Palestine'\n",
    "        if c == 'Bosnia Herzegovina':\n",
    "            c = 'Bosnia and Herzegovina'\n",
    "        if c == 'Guinea Bissau':\n",
    "            c = 'Guinea-Bissau'\n",
    "        if c == 'Kosovo':\n",
    "            continent_name = 'EU'\n",
    "        else:\n",
    "            country_code = pc.country_name_to_country_alpha2(str(c), cn_name_format=\"default\")\n",
    "            continent_name = pc.country_alpha2_to_continent_code(country_code)\n",
    "        \n",
    "        longer = {'NA': 'North America', 'SA': 'South America', 'EU' : 'Europe', 'OC' : 'Oceania', 'AF' : 'Africa', 'AS' : 'Asia'}\n",
    "        \n",
    "        continent_name = longer[continent_name]\n",
    "        \n",
    "        \n",
    "        return continent_name"
   ]
  },
  {
   "cell_type": "code",
   "execution_count": 191,
   "metadata": {},
   "outputs": [],
   "source": [
    "data['continent'] = data.Country_of_Origin.apply(f)"
   ]
  },
  {
   "cell_type": "code",
   "execution_count": 193,
   "metadata": {},
   "outputs": [],
   "source": [
    "data = data.sort_values('Date_of_Publishing')"
   ]
  },
  {
   "cell_type": "code",
   "execution_count": 194,
   "metadata": {},
   "outputs": [],
   "source": [
    "data.to_csv('data.csv')"
   ]
  },
  {
   "cell_type": "code",
   "execution_count": 186,
   "metadata": {},
   "outputs": [
    {
     "name": "stdout",
     "output_type": "stream",
     "text": [
      "Date_Added, 208\n",
      "Date_of_Publishing, 1419\n",
      "Data_Source, 42\n",
      "Source_Type, 3\n",
      "Alert_Type, 10\n",
      "Raw_Product_Phrase, 23324\n",
      "Product_Category, 37\n",
      "Commodity___Product, 3737\n",
      "Country_of_Origin, 148\n",
      "Eu_non_EU_Country_of_Origin, 2\n",
      "Notified_by, 40\n",
      "EU_non_EU_Notifying_Country, 2\n",
      "Incident_Title, 23324\n",
      "Hazard_Description, 2974\n",
      "Hazard_Group, 35\n",
      "Summary, 23529\n",
      "Link, 23735\n",
      "Food__Feed_or_FCM, 5\n",
      "Manufacturer, 1980\n",
      "Brand, 2172\n",
      "Organisations, 13454\n",
      "Is_A_Food_Article, 1\n",
      "continent, 6\n"
     ]
    }
   ],
   "source": [
    "for column in data.columns:\n",
    "    print(f'{column}, {len(data[column].value_counts())}')"
   ]
  },
  {
   "cell_type": "code",
   "execution_count": 187,
   "metadata": {},
   "outputs": [
    {
     "data": {
      "text/plain": [
       "Index(['Date_Added', 'Date_of_Publishing', 'Data_Source', 'Source_Type',\n",
       "       'Alert_Type', 'Raw_Product_Phrase', 'Product_Category',\n",
       "       'Commodity___Product', 'Country_of_Origin',\n",
       "       'Eu_non_EU_Country_of_Origin', 'Notified_by',\n",
       "       'EU_non_EU_Notifying_Country', 'Incident_Title', 'Hazard_Description',\n",
       "       'Hazard_Group', 'Summary', 'Link', 'Food__Feed_or_FCM', 'Manufacturer',\n",
       "       'Brand', 'Organisations', 'Is_A_Food_Article', 'continent'],\n",
       "      dtype='object')"
      ]
     },
     "execution_count": 187,
     "metadata": {},
     "output_type": "execute_result"
    }
   ],
   "source": [
    "data.columns"
   ]
  },
  {
   "cell_type": "code",
   "execution_count": null,
   "metadata": {},
   "outputs": [],
   "source": []
  },
  {
   "cell_type": "code",
   "execution_count": null,
   "metadata": {},
   "outputs": [],
   "source": []
  }
 ],
 "metadata": {
  "kernelspec": {
   "display_name": "Python 3",
   "language": "python",
   "name": "python3"
  },
  "language_info": {
   "codemirror_mode": {
    "name": "ipython",
    "version": 3
   },
   "file_extension": ".py",
   "mimetype": "text/x-python",
   "name": "python",
   "nbconvert_exporter": "python",
   "pygments_lexer": "ipython3",
   "version": "3.8.3"
  }
 },
 "nbformat": 4,
 "nbformat_minor": 4
}
